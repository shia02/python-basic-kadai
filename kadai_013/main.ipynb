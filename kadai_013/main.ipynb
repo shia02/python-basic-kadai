{
 "cells": [
  {
   "cell_type": "code",
   "execution_count": null,
   "metadata": {
    "vscode": {
     "languageId": "plaintext"
    }
   },
   "outputs": [],
   "source": [
    "def add_tax(price: int, tax: int):\n",
    "    return price + price * (tax / 100)\n",
    "\n",
    "tax_add_price = add_tax(110, 10)\n",
    "print(tax_add_price)"
   ]
  }
 ],
 "metadata": {
  "language_info": {
   "name": "python"
  }
 },
 "nbformat": 4,
 "nbformat_minor": 2
}
