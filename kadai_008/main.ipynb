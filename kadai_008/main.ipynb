{
 "cells": [
  {
   "cell_type": "code",
   "execution_count": null,
   "metadata": {
    "vscode": {
     "languageId": "plaintext"
    }
   },
   "outputs": [],
   "source": [
    "import random\n",
    "\n",
    "var = random.randint(1, 30)\n",
    "if var % 15 == 0:\n",
    "    print(\"FizzBuzz\")\n",
    "elif var % 3 == 0:\n",
    "    print(\"Fizz\")\n",
    "elif var % 5 == 0:\n",
    "    print(\"Buzz\")\n",
    "else:\n",
    "    print(var)"
   ]
  }
 ],
 "metadata": {
  "language_info": {
   "name": "python"
  }
 },
 "nbformat": 4,
 "nbformat_minor": 2
}
