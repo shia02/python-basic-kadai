{
 "cells": [
  {
   "cell_type": "code",
   "execution_count": null,
   "metadata": {
    "vscode": {
     "languageId": "plaintext"
    }
   },
   "outputs": [],
   "source": [
    "price1 = 100\n",
    "price2 = 200\n",
    "tax = 1.1\n",
    "\n",
    "def total():\n",
    "    return price1 + price2\n",
    "\n",
    "print (total() * tax)"
   ]
  }
 ],
 "metadata": {
  "language_info": {
   "name": "python"
  }
 },
 "nbformat": 4,
 "nbformat_minor": 2
}
