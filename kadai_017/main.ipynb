{
 "cells": [
  {
   "cell_type": "code",
   "execution_count": null,
   "metadata": {
    "vscode": {
     "languageId": "plaintext"
    }
   },
   "outputs": [],
   "source": [
    "class Human:\n",
    "    def __init__(self, name: str, age: int) -> None:\n",
    "        self.name = name\n",
    "        self.age = age\n",
    "\n",
    "    def check_adult(self):\n",
    "        if self.age >= 20:\n",
    "            print(self.name + \" is adult.\")\n",
    "        else:\n",
    "            print(self.name + \" is not adult.\")\n",
    "\n",
    "humans = [Human(\"human1\", 21), Human(\"human2\", 19)]\n",
    "human3 = Human(\"human3\", 20)\n",
    "humans.append(human3)\n",
    "for human in humans:\n",
    "    human.check_adult()"
   ]
  }
 ],
 "metadata": {
  "language_info": {
   "name": "python"
  }
 },
 "nbformat": 4,
 "nbformat_minor": 2
}
