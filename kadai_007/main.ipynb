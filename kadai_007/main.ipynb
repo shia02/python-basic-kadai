{
 "cells": [
  {
   "cell_type": "code",
   "execution_count": null,
   "metadata": {
    "vscode": {
     "languageId": "plaintext"
    }
   },
   "outputs": [],
   "source": [
    "array = {0: \"月曜日は晴れです\",\n",
    "         1: \"火曜日は雨です\",\n",
    "         2: \"水曜日は晴れです\",\n",
    "         3: \"木曜日は晴れです\",\n",
    "         4: \"金曜日は曇りです\",\n",
    "         5: \"土曜日は曇りのち雨です\",\n",
    "         6: \"日曜日は雷雨です\"}\n",
    "dictionary = {\"mon\": \"晴れ\", \"tue\": \"雨\", \"wed\": \"晴れ\", \"thu\": \"晴れ\", \"fri\": \"曇り\", \"sat\": \"曇りのち雨\", \"sun\": \"雷雨\"}\n",
    "\n",
    "print(array[2])\n",
    "print(dictionary[\"wed\"])"
   ]
  }
 ],
 "metadata": {
  "language_info": {
   "name": "python"
  }
 },
 "nbformat": 4,
 "nbformat_minor": 2
}
